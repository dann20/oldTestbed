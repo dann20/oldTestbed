{
 "cells": [
  {
   "cell_type": "code",
   "execution_count": 2,
   "metadata": {},
   "outputs": [],
   "source": [
    "import pandas as pd"
   ]
  },
  {
   "cell_type": "code",
   "execution_count": 3,
   "metadata": {},
   "outputs": [],
   "source": [
    "col_names = ['TotLen_Bwd_Pkts','Subflow_Bwd_Byts', 'Flow_Duration', 'Init_Bwd_Win_Byts', 'Flow_Pkts/s']\n",
    "testdata = pd.read_csv('testdata_210920.csv', index_col=False, usecols=col_names)\n"
   ]
  },
  {
   "cell_type": "code",
   "execution_count": 5,
   "metadata": {},
   "outputs": [],
   "source": [
    "import numpy as np"
   ]
  },
  {
   "cell_type": "code",
   "execution_count": 6,
   "metadata": {},
   "outputs": [
    {
     "data": {
      "text/plain": [
       "(array([], dtype=int64), array([], dtype=int64))"
      ]
     },
     "execution_count": 6,
     "metadata": {},
     "output_type": "execute_result"
    }
   ],
   "source": [
    "np.where(np.isnan(testdata.to_numpy()))"
   ]
  },
  {
   "cell_type": "code",
   "execution_count": 7,
   "metadata": {
    "scrolled": true
   },
   "outputs": [
    {
     "data": {
      "text/plain": [
       "Int64Index([  1045,   4778,   5580,   6961,  13620,  14226,  14722,  17866,\n",
       "             23882,  24836,  29163,  29260,  29981,  31642,  31767,  32068,\n",
       "             32228,  36774,  37634,  43360,  43385,  44172,  44187,  45073,\n",
       "             48393,  54598,  55989,  58663,  58927,  59383,  60059,  60806,\n",
       "             64263,  64640,  64699,  72493,  73095,  74355,  75283,  75572,\n",
       "             77173,  78184,  80581,  82518,  83358,  83399,  85324,  88128,\n",
       "             88576,  88972,  89409,  89697,  92848,  95274,  98060, 102846,\n",
       "            104096, 104838, 108768, 109528, 111260, 116389, 116844, 117170,\n",
       "            120688, 120913, 121581],\n",
       "           dtype='int64')"
      ]
     },
     "execution_count": 7,
     "metadata": {},
     "output_type": "execute_result"
    }
   ],
   "source": [
    "testdata.index[np.isinf(testdata).any(1)]"
   ]
  },
  {
   "cell_type": "code",
   "execution_count": 8,
   "metadata": {},
   "outputs": [
    {
     "data": {
      "text/plain": [
       "Flow_Pkts/s    Flow_Pkts/s\n",
       "dtype: object"
      ]
     },
     "execution_count": 8,
     "metadata": {},
     "output_type": "execute_result"
    }
   ],
   "source": [
    "testdata.columns.to_series()[np.isinf(testdata).any()]"
   ]
  },
  {
   "cell_type": "code",
   "execution_count": 9,
   "metadata": {},
   "outputs": [
    {
     "data": {
      "text/plain": [
       "inf"
      ]
     },
     "execution_count": 9,
     "metadata": {},
     "output_type": "execute_result"
    }
   ],
   "source": [
    "testdata.at[1045, 'Flow_Pkts/s']"
   ]
  },
  {
   "cell_type": "code",
   "execution_count": null,
   "metadata": {},
   "outputs": [],
   "source": []
  }
 ],
 "metadata": {
  "kernelspec": {
   "display_name": "Python 3.8.2 64-bit",
   "language": "python",
   "name": "python38264bite1b292e85c554f84a77e2306978049ef"
  },
  "language_info": {
   "codemirror_mode": {
    "name": "ipython",
    "version": 3
   },
   "file_extension": ".py",
   "mimetype": "text/x-python",
   "name": "python",
   "nbconvert_exporter": "python",
   "pygments_lexer": "ipython3",
   "version": "3.8.2"
  }
 },
 "nbformat": 4,
 "nbformat_minor": 4
}
